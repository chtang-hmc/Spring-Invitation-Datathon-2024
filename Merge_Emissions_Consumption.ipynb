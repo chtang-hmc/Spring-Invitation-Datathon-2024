{
  "nbformat": 4,
  "nbformat_minor": 0,
  "metadata": {
    "colab": {
      "provenance": []
    },
    "kernelspec": {
      "name": "python3",
      "display_name": "Python 3"
    },
    "language_info": {
      "name": "python"
    }
  },
  "cells": [
    {
      "cell_type": "code",
      "source": [
        "import pandas as pd\n",
        "import numpy as np\n",
        "\n",
        "# Load the datasets\n",
        "consumption_df = pd.read_csv('/content/Energy Data - Consumption.csv')\n",
        "emissions_df = pd.read_csv('/content/Energy Data - Emissions.csv')\n",
        "\n",
        "# Rename columns to ensure consistency\n",
        "emissions_df.rename(columns={'MSN': 'EIA_ID'}, inplace=True)\n",
        "consumption_df.drop(columns=['Energy Category'], inplace=True)\n",
        "\n",
        "# Remove rows with missing, 'Not Available', or 'Not Meaningful' values in the 'Value' column\n",
        "consumption_df = consumption_df[~consumption_df['Value'].isna() &\n",
        "                                (consumption_df['Value'] != 'Not Available') &\n",
        "                                (consumption_df['Value'] != 'Not Meaningful')]\n",
        "emissions_df = emissions_df[~emissions_df['Value'].isna() &\n",
        "                            (emissions_df['Value'] != 'Not Available') &\n",
        "                            (emissions_df['Value'] != 'Not Meaningful')]\n",
        "\n",
        "# Handle 'N/A', empty, and NaN values in the 'Sector' column to denote 'Overall'\n",
        "consumption_df['Sector'] = consumption_df['Sector'].replace({'N/A': 'Overall', '': 'Overall', np.nan: 'Overall'})\n",
        "emissions_df['Sector'] = emissions_df['Sector'].replace({'N/A': 'Overall', '': 'Overall', np.nan: 'Overall'})\n",
        "\n",
        "# Since the emissions DataFrame was adjusted to match the consumption DataFrame columns\n",
        "# Ensure the column order in emissions_df matches that of consumption_df before merging\n",
        "emissions_df = emissions_df[consumption_df.columns]\n",
        "\n",
        "# Merge the datasets\n",
        "final_df = pd.concat([consumption_df, emissions_df], ignore_index=True)\n",
        "\n",
        "# Save the merged dataset\n",
        "final_df.to_csv('/content/cleaned_merged_emissions_consumption.csv', index=False)\n",
        "\n",
        "# Display the first few rows of the merged dataset\n",
        "print(final_df.head())\n"
      ],
      "metadata": {
        "colab": {
          "base_uri": "https://localhost:8080/"
        },
        "id": "j8mgC-Z7tjFX",
        "outputId": "15fbe761-5614-47ee-ab0d-bfaafef00a38"
      },
      "execution_count": 11,
      "outputs": [
        {
          "output_type": "stream",
          "name": "stderr",
          "text": [
            "<ipython-input-11-c9e709dfddfb>:21: SettingWithCopyWarning: \n",
            "A value is trying to be set on a copy of a slice from a DataFrame.\n",
            "Try using .loc[row_indexer,col_indexer] = value instead\n",
            "\n",
            "See the caveats in the documentation: https://pandas.pydata.org/pandas-docs/stable/user_guide/indexing.html#returning-a-view-versus-a-copy\n",
            "  consumption_df['Sector'] = consumption_df['Sector'].replace({'N/A': 'Overall', '': 'Overall', np.nan: 'Overall'})\n"
          ]
        },
        {
          "output_type": "stream",
          "name": "stdout",
          "text": [
            "    EIA_ID  YYYYMM      Date     Value  Column_Order  \\\n",
            "0  DFRCPUS  197301  1/1/1973  1706.943             1   \n",
            "1  DFRCPUS  197302  2/1/1973  1614.436             1   \n",
            "2  DFRCPUS  197303  3/1/1973  1140.521             1   \n",
            "3  DFRCPUS  197304  4/1/1973   824.604             1   \n",
            "4  DFRCPUS  197305  5/1/1973   676.745             1   \n",
            "\n",
            "                                         Description  \\\n",
            "0  Distillate Fuel Oil Consumed by the Residentia...   \n",
            "1  Distillate Fuel Oil Consumed by the Residentia...   \n",
            "2  Distillate Fuel Oil Consumed by the Residentia...   \n",
            "3  Distillate Fuel Oil Consumed by the Residentia...   \n",
            "4  Distillate Fuel Oil Consumed by the Residentia...   \n",
            "\n",
            "                       Unit          Energy Type Energy Class       Sector  \n",
            "0  Thousand Barrels per Day  Distillate Fuel Oil    Petroleum  Residential  \n",
            "1  Thousand Barrels per Day  Distillate Fuel Oil    Petroleum  Residential  \n",
            "2  Thousand Barrels per Day  Distillate Fuel Oil    Petroleum  Residential  \n",
            "3  Thousand Barrels per Day  Distillate Fuel Oil    Petroleum  Residential  \n",
            "4  Thousand Barrels per Day  Distillate Fuel Oil    Petroleum  Residential  \n"
          ]
        }
      ]
    }
  ]
}